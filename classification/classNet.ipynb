{
 "cells": [
  {
   "cell_type": "code",
   "execution_count": 1,
   "metadata": {
    "collapsed": true
   },
   "outputs": [],
   "source": [
    "from IPython.core import display\n",
    "from io import BytesIO\n",
    "from PIL import Image\n",
    "import numpy as np\n",
    "import random\n",
    "import os\n",
    "import neurolab as nl\n",
    "from matplotlib import pyplot as plt\n",
    "import matplotlib.cm as cm\n",
    "import time\n",
    "\n",
    "%matplotlib inline"
   ]
  },
  {
   "cell_type": "code",
   "execution_count": 2,
   "metadata": {
    "collapsed": false
   },
   "outputs": [
    {
     "data": {
      "text/plain": [
       "u'C:\\\\Users\\\\joeal_000\\\\Documents\\\\GitHub\\\\compOpt_Project'"
      ]
     },
     "execution_count": 2,
     "metadata": {},
     "output_type": "execute_result"
    }
   ],
   "source": [
    "os.chdir(\"..\")\n",
    "%pwd"
   ]
  },
  {
   "cell_type": "code",
   "execution_count": 3,
   "metadata": {
    "collapsed": true
   },
   "outputs": [],
   "source": [
    "def getData(path):\n",
    "    \"Splits the data into X and y both being numpy arrays (data already normalized)\"\n",
    "    f = open(path)\n",
    "    lines = f.readlines()\n",
    "    f.close\n",
    "    \n",
    "    images = []\n",
    "    classification = []\n",
    "    for line in lines:\n",
    "        nums = line.split()\n",
    "        classification.append(nums[0])\n",
    "        images.append([((float (val))) for val in nums[1:]])\n",
    "    return (np.array(classification, dtype=np.float),np.array(images))\n",
    "\n",
    "def display_grayscale(arr):\n",
    "    \"SIDE EFFECTS: INTENDED TO BE USED IN IPYTHON NOTEBOOK\"\n",
    "    img = np.array([round(val,2) for val in arr]).astype('uint8').reshape((16,16))\n",
    "    plt.imshow(img, cmap = cm.Greys_r)\n",
    "    return Image.fromarray(img)"
   ]
  },
  {
   "cell_type": "code",
   "execution_count": null,
   "metadata": {
    "collapsed": true
   },
   "outputs": [],
   "source": [
    "classification = np.loadtxt"
   ]
  }
 ],
 "metadata": {
  "kernelspec": {
   "display_name": "Python 2",
   "language": "python",
   "name": "python2"
  },
  "language_info": {
   "codemirror_mode": {
    "name": "ipython",
    "version": 2
   },
   "file_extension": ".py",
   "mimetype": "text/x-python",
   "name": "python",
   "nbconvert_exporter": "python",
   "pygments_lexer": "ipython2",
   "version": "2.7.9"
  }
 },
 "nbformat": 4,
 "nbformat_minor": 0
}

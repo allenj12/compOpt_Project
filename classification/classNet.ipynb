{
 "cells": [
  {
   "cell_type": "code",
   "execution_count": 1,
   "metadata": {
    "collapsed": true
   },
   "outputs": [],
   "source": [
    "from IPython.core import display\n",
    "from io import BytesIO\n",
    "from PIL import Image\n",
    "import numpy as np\n",
    "import random\n",
    "import os\n",
    "import neurolab as nl\n",
    "from matplotlib import pyplot as plt\n",
    "import matplotlib.cm as cm\n",
    "import time\n",
    "import math\n",
    "import pylab as pl\n",
    "\n",
    "%matplotlib inline"
   ]
  },
  {
   "cell_type": "code",
   "execution_count": 2,
   "metadata": {
    "collapsed": false
   },
   "outputs": [
    {
     "data": {
      "text/plain": [
       "u'C:\\\\Users\\\\joeal_000\\\\Documents\\\\GitHub\\\\compOpt_Project'"
      ]
     },
     "execution_count": 2,
     "metadata": {},
     "output_type": "execute_result"
    }
   ],
   "source": [
    "os.chdir(\"..\")\n",
    "%pwd"
   ]
  },
  {
   "cell_type": "code",
   "execution_count": 3,
   "metadata": {
    "collapsed": true
   },
   "outputs": [],
   "source": [
    "def getData(path):\n",
    "    \"Splits the data into X and y both being numpy arrays (data already normalized)\"\n",
    "    f = open(path)\n",
    "    lines = f.readlines()\n",
    "    f.close\n",
    "    \n",
    "    images = []\n",
    "    classification = []\n",
    "    for line in lines:\n",
    "        nums = line.split()\n",
    "        classification.append(nums[0])\n",
    "        images.append([((float (val))) for val in nums[1:]])\n",
    "    return (np.array(classification, dtype=np.float),np.array(images))\n",
    "\n",
    "def display_grayscale(arr):\n",
    "    \"SIDE EFFECTS: INTENDED TO BE USED IN IPYTHON NOTEBOOK\"\n",
    "    img = np.array([round(val,2) for val in arr]).astype('uint8').reshape((16,16))\n",
    "    plt.imshow(img, cmap = cm.Greys_r)\n",
    "    return Image.fromarray(img)"
   ]
  },
  {
   "cell_type": "code",
   "execution_count": 4,
   "metadata": {
    "collapsed": false
   },
   "outputs": [],
   "source": [
    "classification = np.loadtxt('classification.txt')\n",
    "data = np.loadtxt('features/data80NetFeatures.txt')"
   ]
  },
  {
   "cell_type": "code",
   "execution_count": 5,
   "metadata": {
    "collapsed": true
   },
   "outputs": [],
   "source": [
    "def thisThat(x):\n",
    "    if x == 1:\n",
    "        return 1\n",
    "    else:\n",
    "        return -1"
   ]
  },
  {
   "cell_type": "code",
   "execution_count": 6,
   "metadata": {
    "collapsed": false
   },
   "outputs": [],
   "source": [
    "training = data[:300]\n",
    "trainyans = map(thisThat,classification[:300])\n",
    "Dtest = data[300:]\n",
    "testyans = map(thisThat,classification[300:])"
   ]
  },
  {
   "cell_type": "code",
   "execution_count": 33,
   "metadata": {
    "collapsed": false
   },
   "outputs": [],
   "source": [
    "\n",
    "def makeWeights(init, layers):\n",
    "    weights = [0]\n",
    "    \n",
    "    if init == \"rand\":\n",
    "        for i in range(len(layers) - 1):\n",
    "            if i == len(layers) - 2:\n",
    "                weights.append(np.array([random.uniform(0, 1) for x in range((layers[i] * layers[i + 1]))]).reshape(layers[i], layers[i + 1]))\n",
    "            else:\n",
    "                weights.append(np.array([random.uniform(0, 1) for x in range((layers[i] * (layers[i + 1] - 1)))]).reshape(layers[i], (layers[i + 1] - 1)))\n",
    "        return weights\n",
    "    \n",
    "    else:\n",
    "        for i in range(len(layers) - 1):\n",
    "            if i == len(layers) - 2:\n",
    "                weights.append(np.array([init] * (layers[i] * layers[i + 1])).reshape(layers[i], layers[i + 1]))\n",
    "            else:\n",
    "                weights.append(np.array([init] * (layers[i] * (layers[i + 1] - 1))).reshape(layers[i], (layers[i + 1] - 1)))\n",
    "        return weights\n",
    "    \n",
    "            \n",
    "def forwardProp(x0, weights):\n",
    "    xl = [np.array(x0)]\n",
    "    for l in range(1,len(weights)):\n",
    "        sl = weights[l].T.dot(xl[-1])\n",
    "        xl.append(np.append(1,np.tanh(sl)))\n",
    "        \n",
    "    xl[-1] = xl[-1][1:][0]\n",
    "    return xl\n",
    "\n",
    "def classify(x0, weights):\n",
    "    xl = [np.array(x0)]\n",
    "    for l in range(1,len(weights)):\n",
    "        sl = weights[l].T.dot(xl[-1])\n",
    "        xl.append(np.append(1,np.tanh(sl)))\n",
    "    return np.sign(xl[-1][1])\n",
    "    \n",
    "\n",
    "def backProp(xl, weights):\n",
    "    dl = [np.array(1 - xl[-1] ** 2)]\n",
    "    for l in reversed(range(1, len(weights) - 1)):\n",
    "        diag = 1 - xl[l] ** 2\n",
    "        tl = np.diagflat(diag[1:])\n",
    "        \n",
    "        product = weights[l + 1].dot(dl[0])\n",
    "        dl[0:0] = [tl.dot(product[1:])]\n",
    "    dl [0:0] = [0]\n",
    "    return dl\n",
    "\n",
    "\n",
    "def gradient(data, y, layers, weights):\n",
    "    \n",
    "    Ein = 0\n",
    "    gl = [0] * len(weights)\n",
    "    \n",
    "    for i in range(1,len(data)):\n",
    "        x0 = data[i]\n",
    "        xl = forwardProp(x0, weights)\n",
    "        for x in range(len(xl) - 1):\n",
    "            xl[x] = np.array([[d] for d in xl[x]])\n",
    "        dl = backProp(xl, weights)\n",
    "        Ein += (1.0 / (4 * (len(data) - 1))) * ((xl[-1] - y[i]) ** 2)\n",
    "\n",
    "        for l in range(1,len(weights)):\n",
    "            glxn = (2 * (xl[-1] - y[i])) * (xl[l - 1].dot(dl[l].T)) #+ (0.01 / len(data))\n",
    "            gl[l] = gl[l] + (1.0 / (len(data) - 1)) * (glxn / (len(data) - 1))\n",
    "            \n",
    "    return [gl, Ein]\n",
    "\n",
    "def stochastic(data, y, layers, weights):\n",
    "    \n",
    "    alleins = []\n",
    "    minChange = 1\n",
    "    minEin = .0000000000000000000005\n",
    "    maxIter = 2\n",
    "    learningRate = .01\n",
    "    \n",
    "    Es = []\n",
    "    \n",
    "    iterr = 0\n",
    "    Ein = 0\n",
    "    change = 10\n",
    "    \n",
    "    #for i in range(1, len(data)):\n",
    "        #data[i][0:0] = [1]\n",
    "    \n",
    "    while (iterr < maxIter) and (not((change <= minChange) and (Ein <= minEin))):\n",
    "        ind = random.randint(1,len(data)) - 1\n",
    "        point = [data[ind]]\n",
    "        ans = [y[ind]]\n",
    "        point[0:0] = [0]\n",
    "        ans[0:0] = [0]\n",
    "        gl,Ein = gradient(point, ans, layers, weights)\n",
    "        alleins.append(Ein)\n",
    "            \n",
    "        change =  0\n",
    "        \n",
    "        print classify(data[ind],weights)\n",
    "        print ans[1]\n",
    "        for l in range(1, len(weights)):\n",
    "            temp = np.sum(weights[l])\n",
    "            weights[l] -= learningRate * gl[l]\n",
    "            change += abs(temp - np.sum(weights[l]))\n",
    "            \n",
    "        iterr += 1\n",
    "    print iterr\n",
    "    return [weights,alleins]\n",
    "    \n",
    "    print iterr\n",
    "    return [weights,alleins]\n",
    "#print stochastic([0, [1, 1]], [0, 1], layers, makeWeights(.25, layers))"
   ]
  },
  {
   "cell_type": "code",
   "execution_count": 34,
   "metadata": {
    "collapsed": false
   },
   "outputs": [
    {
     "name": "stdout",
     "output_type": "stream",
     "text": [
      "1.0\n",
      "-1\n",
      "-1.0\n",
      "-1\n",
      "2\n"
     ]
    }
   ],
   "source": [
    "layers = [80, 10, 1]\n",
    "weights,eins = stochastic(training, trainyans, layers, makeWeights(\"rand\", layers))"
   ]
  },
  {
   "cell_type": "code",
   "execution_count": 18,
   "metadata": {
    "collapsed": false
   },
   "outputs": [
    {
     "ename": "NameError",
     "evalue": "name 'weights' is not defined",
     "output_type": "error",
     "traceback": [
      "\u001b[1;31m---------------------------------------------------------------------------\u001b[0m",
      "\u001b[1;31mNameError\u001b[0m                                 Traceback (most recent call last)",
      "\u001b[1;32m<ipython-input-18-dc643e3a3e8d>\u001b[0m in \u001b[0;36m<module>\u001b[1;34m()\u001b[0m\n\u001b[0;32m     17\u001b[0m \u001b[1;33m\u001b[0m\u001b[0m\n\u001b[0;32m     18\u001b[0m \u001b[1;33m\u001b[0m\u001b[0m\n\u001b[1;32m---> 19\u001b[1;33m \u001b[1;32mprint\u001b[0m \u001b[0mEtest\u001b[0m\u001b[1;33m(\u001b[0m\u001b[0mweights\u001b[0m\u001b[1;33m,\u001b[0m \u001b[0mDtest\u001b[0m\u001b[1;33m,\u001b[0m \u001b[0mtestyans\u001b[0m\u001b[1;33m)\u001b[0m\u001b[1;33m\u001b[0m\u001b[0m\n\u001b[0m\u001b[0;32m     20\u001b[0m \u001b[1;32mprint\u001b[0m \u001b[1;36m1\u001b[0m \u001b[1;33m-\u001b[0m \u001b[0mEtest\u001b[0m\u001b[1;33m(\u001b[0m\u001b[0mweights\u001b[0m\u001b[1;33m,\u001b[0m \u001b[0mDtest\u001b[0m\u001b[1;33m,\u001b[0m \u001b[0mtestyans\u001b[0m\u001b[1;33m)\u001b[0m\u001b[1;33m\u001b[0m\u001b[0m\n",
      "\u001b[1;31mNameError\u001b[0m: name 'weights' is not defined"
     ]
    }
   ],
   "source": [
    "def Etest(weights, test, testyans):\n",
    "    \n",
    "    count = 0.0\n",
    "    \n",
    "    for i in range(len(test)):\n",
    "        n = [1] + test[i]\n",
    " \n",
    "        \n",
    "        summ = 0\n",
    "        if (classify(n, weights) == 1) and (testyans[i] == -1):\n",
    "            count += 1.0\n",
    "            \n",
    "        if (classify(n, weights) == -1) and (testyans[i] == 1):\n",
    "            count += 1.0\n",
    "                   \n",
    "    return count / len(test)\n",
    "\n",
    "\n",
    "print Etest(weights, Dtest, testyans)\n",
    "print 1 - Etest(weights, Dtest, testyans)"
   ]
  },
  {
   "cell_type": "code",
   "execution_count": 11,
   "metadata": {
    "collapsed": false
   },
   "outputs": [
    {
     "name": "stdout",
     "output_type": "stream",
     "text": [
      "[  1.22124533e-15   1.83323395e-03   4.26149116e-11   2.00000000e+00\n",
      "   1.21029782e-05   1.99999719e+00   1.71428742e-04   2.00000000e+00\n",
      "   2.90595032e-07   2.00000000e+00   4.92185053e-03   1.11886711e+00\n",
      "   9.24155019e-04   1.99893351e+00   4.17691477e-01   6.24644054e-04\n",
      "   6.72032167e-02   2.00000000e+00   9.54151298e-01   1.99953142e+00\n",
      "   6.02085359e-01   1.99992497e+00   2.00000000e+00   1.25993576e-04\n",
      "   3.03333630e-05   1.99999186e+00   3.49937312e-09   6.26129623e-01\n",
      "   2.00000000e+00   5.04920661e-10   2.00000000e+00   1.99999999e+00\n",
      "   1.74125006e-05   2.00000000e+00   1.99947184e+00   1.80002070e+00\n",
      "   1.85703626e-06   1.35448588e+00   1.67298525e-04   5.90360065e-06\n",
      "   2.80114608e-04   0.00000000e+00   1.99950700e+00   1.96495249e+00\n",
      "   1.99974367e+00   1.40003614e+00   1.11286766e-05   2.00000000e+00\n",
      "   1.99999984e+00   1.99999823e+00   0.00000000e+00   2.00000000e+00\n",
      "   1.99993236e+00   2.00000000e+00   1.55250477e-03   1.99997198e+00\n",
      "   3.01088510e-09   1.99999459e+00   1.02096213e-07   5.01412177e-01\n",
      "   2.00000000e+00   3.55970488e-05   5.10929782e-06   4.11231478e-08\n",
      "   2.54717571e-01   1.99999215e+00   2.03004778e-03   2.00000000e+00\n",
      "   1.99999993e+00   1.99848132e+00   4.07912593e-11   1.41327776e-01\n",
      "   2.00000000e+00   1.99415551e+00   1.45551269e-04   0.00000000e+00\n",
      "   1.47377111e-10   1.37596867e-03   1.96378285e+00   2.95523585e-02]\n"
     ]
    }
   ],
   "source": []
  },
  {
   "cell_type": "code",
   "execution_count": 25,
   "metadata": {
    "collapsed": false
   },
   "outputs": [
    {
     "data": {
      "text/plain": [
       "-1"
      ]
     },
     "execution_count": 25,
     "metadata": {},
     "output_type": "execute_result"
    }
   ],
   "source": [
    "trainyans[1]"
   ]
  },
  {
   "cell_type": "code",
   "execution_count": null,
   "metadata": {
    "collapsed": true
   },
   "outputs": [],
   "source": []
  }
 ],
 "metadata": {
  "kernelspec": {
   "display_name": "Python 2",
   "language": "python",
   "name": "python2"
  },
  "language_info": {
   "codemirror_mode": {
    "name": "ipython",
    "version": 2
   },
   "file_extension": ".py",
   "mimetype": "text/x-python",
   "name": "python",
   "nbconvert_exporter": "python",
   "pygments_lexer": "ipython2",
   "version": "2.7.9"
  }
 },
 "nbformat": 4,
 "nbformat_minor": 0
}

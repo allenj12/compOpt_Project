{
 "cells": [
  {
   "cell_type": "code",
   "execution_count": 1,
   "metadata": {
    "collapsed": false
   },
   "outputs": [],
   "source": [
    "from IPython.core import display\n",
    "from io import BytesIO\n",
    "from PIL import Image\n",
    "import numpy as np\n",
    "import random\n",
    "import os\n",
    "import neurolab as nl\n",
    "from matplotlib import pyplot as plt\n",
    "import matplotlib.cm as cm\n",
    "import time\n",
    "\n",
    "%matplotlib inline"
   ]
  },
  {
   "cell_type": "code",
   "execution_count": 2,
   "metadata": {
    "collapsed": false
   },
   "outputs": [
    {
     "data": {
      "text/plain": [
       "u'C:\\\\Users\\\\joeal_000\\\\Documents\\\\GitHub\\\\compOpt_Project'"
      ]
     },
     "execution_count": 2,
     "metadata": {},
     "output_type": "execute_result"
    }
   ],
   "source": [
    "os.chdir(\"..\")\n",
    "%pwd"
   ]
  },
  {
   "cell_type": "code",
   "execution_count": 3,
   "metadata": {
    "collapsed": false
   },
   "outputs": [],
   "source": [
    "def getData(path):\n",
    "    \"Splits the data into X and y both being numpy arrays (data already normalized)\"\n",
    "    f = open(path)\n",
    "    lines = f.readlines()\n",
    "    f.close\n",
    "    \n",
    "    images = []\n",
    "    classification = []\n",
    "    for line in lines:\n",
    "        nums = line.split()\n",
    "        classification.append(nums[0])\n",
    "        images.append([((float (val))) for val in nums[1:]])\n",
    "    return (np.array(classification, dtype=np.float),np.array(images))\n",
    "\n",
    "def display_grayscale(arr):\n",
    "    \"SIDE EFFECTS: INTENDED TO BE USED IN IPYTHON NOTEBOOK\"\n",
    "    img = np.array([round(val,2) for val in arr]).astype('uint8').reshape((16,16))\n",
    "    plt.imshow(img, cmap = cm.Greys_r)\n",
    "    return Image.fromarray(img)"
   ]
  },
  {
   "cell_type": "code",
   "execution_count": 4,
   "metadata": {
    "collapsed": false
   },
   "outputs": [],
   "source": [
    "#get the data in two arrays classifications and the actual data\n",
    "\n",
    "#classificationTrain,trainData = getData(\"ZipDigits.train.txt\")\n",
    "#classificationTest,testData = getData(\"ZipDigits.test.txt\")\n",
    "#combined set since we will use or on seperation technique\n",
    "classification,data = getData('combinedData.txt')"
   ]
  },
  {
   "cell_type": "code",
   "execution_count": 34,
   "metadata": {
    "collapsed": false
   },
   "outputs": [],
   "source": [
    "# Create network with 256 inputs, 2 neurons in hidden layer\n",
    "# And 256 in output layer\n",
    "\n",
    "#ann = nl.load('features/ann80.net')\n",
    "size = 1\n",
    "subData = data[:size]\n",
    "#inputParams = [[-1, 1]] * len(subData[0])\n",
    "#ann = nl.net.newff(inputParams, [80,256])\n",
    "#ann.trainf = nl.train.train_rprop\n",
    "f = nl.error.MSE()\n",
    "ann.errorf = f"
   ]
  },
  {
   "cell_type": "code",
   "execution_count": 8,
   "metadata": {
    "collapsed": false
   },
   "outputs": [],
   "source": [
    "#cuts the last layer off of ann making the net that makes the features\n",
    "inputParams = [[-1, 1]] * len(subData[0])\n",
    "featureNet = nl.net.newff(inputParams, [80])\n",
    "featureNet.layers[0].np['w'][:] = ann.layers[0].np['w']\n",
    "featureNet.layers[0].np['b'][:] = ann.layers[0].np['b']"
   ]
  },
  {
   "cell_type": "code",
   "execution_count": 8,
   "metadata": {
    "collapsed": false
   },
   "outputs": [],
   "source": [
    "#trainNetFeatures = featureNet.sim(trainData)\n",
    "#testNetFeatures = featureNet.sim(testData)\n",
    "netFeatures = featureNet.sim(data)"
   ]
  },
  {
   "cell_type": "code",
   "execution_count": 14,
   "metadata": {
    "collapsed": false
   },
   "outputs": [
    {
     "data": {
      "text/plain": [
       "(9298,)"
      ]
     },
     "execution_count": 14,
     "metadata": {},
     "output_type": "execute_result"
    }
   ],
   "source": [
    "#np.savetxt('features/trainNetFeatures.txt', trainNetFeatures)\n",
    "#np.savetxt('features/testNetFeatures.txt', testNetFeatures)\n",
    "#np.savetxt('features/classificationTrain.txt',classificationTrain)\n",
    "#np.savetxt('features/classificationTest.txt',classificationTest)\n",
    "\n",
    "#for combined data since we will probably use K-folds anyway\n",
    "np.savetxt('features/netFeatures.txt', netFeatures)\n",
    "np.savetxt('features/classification.txt', classification)\n"
   ]
  },
  {
   "cell_type": "code",
   "execution_count": 35,
   "metadata": {
    "collapsed": false
   },
   "outputs": [
    {
     "name": "stdout",
     "output_type": "stream",
     "text": [
      "Epoch: 1; Error: 0.0203935135061;\n",
      "The goal of learning is reached\n"
     ]
    }
   ],
   "source": [
    "# Train process\n",
    "#last condition epochs=100000000,show=100000,\n",
    "err = ann.train(subData, subData,epochs=1,show=1, goal=25600.0)"
   ]
  },
  {
   "cell_type": "code",
   "execution_count": 11,
   "metadata": {
    "collapsed": false
   },
   "outputs": [
    {
     "ename": "NameError",
     "evalue": "name 'sub' is not defined",
     "output_type": "error",
     "traceback": [
      "\u001b[1;31m---------------------------------------------------------------------------\u001b[0m",
      "\u001b[1;31mNameError\u001b[0m                                 Traceback (most recent call last)",
      "\u001b[1;32m<ipython-input-11-3050313afdf6>\u001b[0m in \u001b[0;36m<module>\u001b[1;34m()\u001b[0m\n\u001b[0;32m      3\u001b[0m \u001b[1;31m#ub = ann.sim(subData[ind:ind+1])\u001b[0m\u001b[1;33m\u001b[0m\u001b[1;33m\u001b[0m\u001b[0m\n\u001b[0;32m      4\u001b[0m \u001b[1;31m#rint \"test\"\u001b[0m\u001b[1;33m\u001b[0m\u001b[1;33m\u001b[0m\u001b[0m\n\u001b[1;32m----> 5\u001b[1;33m \u001b[0mexIn\u001b[0m \u001b[1;33m=\u001b[0m \u001b[0mdisplay_grayscale\u001b[0m\u001b[1;33m(\u001b[0m\u001b[0msub\u001b[0m\u001b[1;33m[\u001b[0m\u001b[1;36m0\u001b[0m\u001b[1;33m]\u001b[0m\u001b[1;33m)\u001b[0m\u001b[1;33m\u001b[0m\u001b[0m\n\u001b[0m",
      "\u001b[1;31mNameError\u001b[0m: name 'sub' is not defined"
     ]
    }
   ],
   "source": [
    "#this block just used for comparing random pictures within the training set\n",
    "ind = random.randrange(0,size)\n",
    "sub = ann.sim(subData[ind:ind+1])\n",
    "print \"test\"\n",
    "exIn = display_grayscale(sub[0])"
   ]
  },
  {
   "cell_type": "code",
   "execution_count": 12,
   "metadata": {
    "collapsed": false
   },
   "outputs": [
    {
     "ename": "NameError",
     "evalue": "name 'ind' is not defined",
     "output_type": "error",
     "traceback": [
      "\u001b[1;31m---------------------------------------------------------------------------\u001b[0m",
      "\u001b[1;31mNameError\u001b[0m                                 Traceback (most recent call last)",
      "\u001b[1;32m<ipython-input-12-614e46a2b8c5>\u001b[0m in \u001b[0;36m<module>\u001b[1;34m()\u001b[0m\n\u001b[1;32m----> 1\u001b[1;33m \u001b[0mexOut\u001b[0m \u001b[1;33m=\u001b[0m \u001b[0mdisplay_grayscale\u001b[0m\u001b[1;33m(\u001b[0m\u001b[0mdata\u001b[0m\u001b[1;33m[\u001b[0m\u001b[0mind\u001b[0m\u001b[1;33m]\u001b[0m\u001b[1;33m)\u001b[0m\u001b[1;33m\u001b[0m\u001b[0m\n\u001b[0m",
      "\u001b[1;31mNameError\u001b[0m: name 'ind' is not defined"
     ]
    }
   ],
   "source": [
    "exOut = display_grayscale(data[ind])"
   ]
  },
  {
   "cell_type": "code",
   "execution_count": 6,
   "metadata": {
    "collapsed": false
   },
   "outputs": [
    {
     "data": {
      "image/png": "[encoded data removed]",
      "text/plain": [
       "<matplotlib.figure.Figure at 0x104fd0f0>"
      ]
     },
     "metadata": {},
     "output_type": "display_data"
    }
   ],
   "source": [
    "#outside of the data set\n",
    "ind = random.randrange(size,size+200)\n",
    "exampleInput = display_grayscale(data[ind])"
   ]
  },
  {
   "cell_type": "code",
   "execution_count": 7,
   "metadata": {
    "collapsed": false
   },
   "outputs": [
    {
     "data": {
      "image/png": "[encoded data removed]",
      "text/plain": [
       "<matplotlib.figure.Figure at 0xcd50eb8>"
      ]
     },
     "metadata": {},
     "output_type": "display_data"
    }
   ],
   "source": [
    "exampleOutput = ann.sim(data[ind:ind+1])\n",
    "#exampleTest = \n",
    "exampleOut = display_grayscale(exampleOutput[0])\n",
    "\n",
    "#example.save('example1OUTPUT.png')"
   ]
  },
  {
   "cell_type": "code",
   "execution_count": 10,
   "metadata": {
    "collapsed": false,
    "scrolled": true
   },
   "outputs": [],
   "source": [
    "ann.save('features/ann80.net')"
   ]
  },
  {
   "cell_type": "code",
   "execution_count": 29,
   "metadata": {
    "collapsed": false
   },
   "outputs": [],
   "source": [
    "out = ann.sim(data)"
   ]
  },
  {
   "cell_type": "code",
   "execution_count": 14,
   "metadata": {
    "collapsed": false
   },
   "outputs": [],
   "source": [
    "np.savetxt('features/data80NetFeatures', out)"
   ]
  },
  {
   "cell_type": "code",
   "execution_count": 9,
   "metadata": {
    "collapsed": false
   },
   "outputs": [
    {
     "data": {
      "text/plain": [
       "0.01599663158082789"
      ]
     },
     "execution_count": 9,
     "metadata": {},
     "output_type": "execute_result"
    }
   ],
   "source": [
    "testt = ann.sim(subData)\n",
    "f = nl.error.MSE()\n",
    "f(subData, testt)"
   ]
  },
  {
   "cell_type": "code",
   "execution_count": 33,
   "metadata": {
    "collapsed": false
   },
   "outputs": [
    {
     "data": {
      "text/plain": [
       "0.19631478622651999"
      ]
     },
     "execution_count": 33,
     "metadata": {},
     "output_type": "execute_result"
    }
   ],
   "source": []
  },
  {
   "cell_type": "code",
   "execution_count": 13,
   "metadata": {
    "collapsed": false
   },
   "outputs": [
    {
     "data": {
      "text/plain": [
       "500"
      ]
     },
     "execution_count": 13,
     "metadata": {},
     "output_type": "execute_result"
    }
   ],
   "source": []
  },
  {
   "cell_type": "code",
   "execution_count": 22,
   "metadata": {
    "collapsed": false
   },
   "outputs": [
    {
     "data": {
      "text/plain": [
       "<neurolab.error.SSE instance at 0x0000000009D21C08>"
      ]
     },
     "execution_count": 22,
     "metadata": {},
     "output_type": "execute_result"
    }
   ],
   "source": []
  },
  {
   "cell_type": "code",
   "execution_count": null,
   "metadata": {
    "collapsed": true
   },
   "outputs": [],
   "source": []
  }
 ],
 "metadata": {
  "kernelspec": {
   "display_name": "Python 2",
   "language": "python",
   "name": "python2"
  },
  "language_info": {
   "codemirror_mode": {
    "name": "ipython",
    "version": 2
   },
   "file_extension": ".py",
   "mimetype": "text/x-python",
   "name": "python",
   "nbconvert_exporter": "python",
   "pygments_lexer": "ipython2",
   "version": "2.7.9"
  }
 },
 "nbformat": 4,
 "nbformat_minor": 0
}

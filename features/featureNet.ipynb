{
 "cells": [
  {
   "cell_type": "code",
   "execution_count": 1,
   "metadata": {
    "collapsed": false
   },
   "outputs": [],
   "source": [
    "from IPython.core import display\n",
    "from io import BytesIO\n",
    "import Image\n",
    "import numpy as np\n",
    "import random\n",
    "import os\n",
    "import neurolab as nl"
   ]
  },
  {
   "cell_type": "code",
   "execution_count": 2,
   "metadata": {
    "collapsed": false
   },
   "outputs": [
    {
     "data": {
      "text/plain": [
       "u'/home/joe/Documents/pycode/compOpt_Project'"
      ]
     },
     "execution_count": 2,
     "metadata": {},
     "output_type": "execute_result"
    }
   ],
   "source": [
    "os.chdir(\"..\")\n",
    "%pwd"
   ]
  },
  {
   "cell_type": "code",
   "execution_count": 3,
   "metadata": {
    "collapsed": false
   },
   "outputs": [],
   "source": [
    "def getData(path):\n",
    "    f = open(path)\n",
    "    lines = f.readlines()\n",
    "    f.close\n",
    "    \n",
    "    images = []\n",
    "    classification = []\n",
    "    for line in lines:\n",
    "        nums = line.split()\n",
    "        classification.append(nums[0])\n",
    "        images.append([((float (val))) for val in nums[1:]])\n",
    "    return (classification,images)"
   ]
  },
  {
   "cell_type": "code",
   "execution_count": 4,
   "metadata": {
    "collapsed": false
   },
   "outputs": [],
   "source": [
    "classification,trainData = getData(\"ZipDigits.train.txt\")"
   ]
  },
  {
   "cell_type": "code",
   "execution_count": 5,
   "metadata": {
    "collapsed": false
   },
   "outputs": [
    {
     "name": "stdout",
     "output_type": "stream",
     "text": [
      "Epoch: 5; Error: 21912.9678123;\n",
      "Epoch: 10; Error: 21802.9281736;\n",
      "Epoch: 15; Error: 21735.1464003;\n",
      "Epoch: 20; Error: 21484.7271666;\n",
      "The maximum number of train epochs is reached\n",
      "[[ 1. -1.  1. ..., -1. -1.  1.]\n",
      " [ 1. -1.  1. ...,  1. -1. -1.]\n",
      " [ 1. -1.  1. ..., -1. -1.  1.]\n",
      " ..., \n",
      " [ 1. -1.  1. ..., -1. -1.  1.]\n",
      " [ 1. -1.  1. ..., -1. -1.  1.]\n",
      " [ 1. -1.  1. ..., -1. -1.  1.]]\n"
     ]
    }
   ],
   "source": [
    "# Create network with 256 inputs, 2 neurons in hidden layer\n",
    "# And 256 in output layer\n",
    "testData = trainData[:101]\n",
    "inputParams = [[-1, 1]] * len(trainData[0])\n",
    "ann = nl.net.newff(inputParams, [2, 256])\n",
    "\n",
    "# Train process\n",
    "err = ann.train(testData, testData,epochs=20,show=5)\n",
    "\n",
    "test = ann.sim(testData)\n",
    "\n",
    "print test\n",
    "\n"
   ]
  },
  {
   "cell_type": "code",
   "execution_count": 12,
   "metadata": {
    "collapsed": false
   },
   "outputs": [
    {
     "name": "stdout",
     "output_type": "stream",
     "text": [
      "-0.631\n",
      "1.0\n"
     ]
    }
   ],
   "source": [
    "print trainData[0][7]\n",
    "print test[0][7]"
   ]
  },
  {
   "cell_type": "code",
   "execution_count": null,
   "metadata": {
    "collapsed": true
   },
   "outputs": [],
   "source": []
  }
 ],
 "metadata": {
  "kernelspec": {
   "display_name": "Python 2",
   "language": "python",
   "name": "python2"
  },
  "language_info": {
   "codemirror_mode": {
    "name": "ipython",
    "version": 2
   },
   "file_extension": ".py",
   "mimetype": "text/x-python",
   "name": "python",
   "nbconvert_exporter": "python",
   "pygments_lexer": "ipython2",
   "version": "2.7.6"
  }
 },
 "nbformat": 4,
 "nbformat_minor": 0
}

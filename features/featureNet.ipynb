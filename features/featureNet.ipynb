{
 "cells": [
  {
   "cell_type": "code",
   "execution_count": 1,
   "metadata": {
    "collapsed": false
   },
   "outputs": [],
   "source": [
    "from IPython.core import display\n",
    "from io import BytesIO\n",
    "from PIL import Image\n",
    "import numpy as np\n",
    "import random\n",
    "import os\n",
    "import neurolab as nl\n",
    "from matplotlib import pyplot as plt\n",
    "import matplotlib.cm as cm\n",
    "import time\n",
    "\n",
    "%matplotlib inline"
   ]
  },
  {
   "cell_type": "code",
   "execution_count": 2,
   "metadata": {
    "collapsed": false
   },
   "outputs": [
    {
     "data": {
      "text/plain": [
       "u'/home/joe/Documents/pycode/compOpt_Project'"
      ]
     },
     "execution_count": 2,
     "metadata": {},
     "output_type": "execute_result"
    }
   ],
   "source": [
    "os.chdir(\"..\")\n",
    "%pwd"
   ]
  },
  {
   "cell_type": "code",
   "execution_count": 3,
   "metadata": {
    "collapsed": false
   },
   "outputs": [],
   "source": [
    "def getData(path):\n",
    "    \"Splits the data into X and y both being numpy arrays (data already normalized)\"\n",
    "    f = open(path)\n",
    "    lines = f.readlines()\n",
    "    f.close\n",
    "    \n",
    "    images = []\n",
    "    classification = []\n",
    "    for line in lines:\n",
    "        nums = line.split()\n",
    "        classification.append(nums[0])\n",
    "        images.append([((float (val))) for val in nums[1:]])\n",
    "    return (np.array(classification, dtype=np.float),np.array(images))\n",
    "\n",
    "def display_grayscale(arr):\n",
    "    \"SIDE EFFECTS: INTENDED TO BE USED IN IPYTHON NOTEBOOK\"\n",
    "    img = np.array([round(val,2) for val in arr]).astype('uint8').reshape((16,16))\n",
    "    plt.imshow(img, cmap = cm.Greys_r)\n",
    "    return Image.fromarray(img)"
   ]
  },
  {
   "cell_type": "code",
   "execution_count": 4,
   "metadata": {
    "collapsed": false
   },
   "outputs": [],
   "source": [
    "#classificationTrain,trainData = getData(\"ZipDigits.train.txt\")\n",
    "#classificationTest,testData = getData(\"ZipDigits.test.txt\")\n",
    "\n",
    "#combined set since we will use or on seperation technique\n",
    "classification,data = getData('combinedData.txt')"
   ]
  },
  {
   "cell_type": "code",
   "execution_count": 5,
   "metadata": {
    "collapsed": false
   },
   "outputs": [],
   "source": [
    "# Create network with 256 inputs, 2 neurons in hidden layer\n",
    "# And 256 in output layer\n",
    "\n",
    "ann = nl.load('features/ann60.net')\n",
    "size = 100\n",
    "subData = data[:size]\n",
    "#inputParams = [[-1, 1]] * len(subData[0])\n",
    "#ann = nl.net.newff(inputParams, [2,256])\n",
    "#ann.trainf = nl.train.train_rprop"
   ]
  },
  {
   "cell_type": "code",
   "execution_count": 7,
   "metadata": {
    "collapsed": false
   },
   "outputs": [],
   "source": [
    "#cuts the last layer off of ann making the net that makes the features\n",
    "inputParams = [[-1, 1]] * len(subData[0])\n",
    "featureNet = nl.net.newff(inputParams, [60])\n",
    "featureNet.layers[0].np['w'][:] = ann.layers[0].np['w']\n",
    "featureNet.layers[0].np['b'][:] = ann.layers[0].np['b']"
   ]
  },
  {
   "cell_type": "code",
   "execution_count": 8,
   "metadata": {
    "collapsed": false
   },
   "outputs": [],
   "source": [
    "#trainNetFeatures = featureNet.sim(trainData)\n",
    "#testNetFeatures = featureNet.sim(testData)\n",
    "netFeatures = featureNet.sim(data)"
   ]
  },
  {
   "cell_type": "code",
   "execution_count": 14,
   "metadata": {
    "collapsed": false
   },
   "outputs": [
    {
     "data": {
      "text/plain": [
       "(9298,)"
      ]
     },
     "execution_count": 14,
     "metadata": {},
     "output_type": "execute_result"
    }
   ],
   "source": [
    "#np.savetxt('features/trainNetFeatures.txt', trainNetFeatures)\n",
    "#np.savetxt('features/testNetFeatures.txt', testNetFeatures)\n",
    "#np.savetxt('features/classificationTrain.txt',classificationTrain)\n",
    "#np.savetxt('features/classificationTest.txt',classificationTest)\n",
    "\n",
    "#for combined data since we will probably use K-folds anyway\n",
    "np.savetxt('features/netFeatures.txt', netFeatures)\n",
    "np.savetxt('features/classification.txt', classification)\n"
   ]
  },
  {
   "cell_type": "code",
   "execution_count": null,
   "metadata": {
    "collapsed": false
   },
   "outputs": [],
   "source": [
    "# Train process\n",
    "#last condition epochs=100000000,show=100000,\n",
    "err = ann.train(subData, subData,epochs=100000000,show=100000, goal=1)"
   ]
  },
  {
   "cell_type": "code",
   "execution_count": 23,
   "metadata": {
    "collapsed": false
   },
   "outputs": [
    {
     "name": "stdout",
     "output_type": "stream",
     "text": [
      "test\n"
     ]
    },
    {
     "data": {
      "text/plain": [
       "<PIL.Image.Image image mode=L size=16x16 at 0x7F5250C29EA8>"
      ]
     },
     "execution_count": 23,
     "metadata": {},
     "output_type": "execute_result"
    },
    {
     "data": {
      "image/png": "[encoded data removed]",
      "text/plain": [
       "<matplotlib.figure.Figure at 0x7f5250bd7090>"
      ]
     },
     "metadata": {},
     "output_type": "display_data"
    }
   ],
   "source": [
    "#this block just used for comparing random pictures within the training set\n",
    "ind = random.randrange(0,size)\n",
    "sub = ann.sim(subData[ind:ind+1])\n",
    "print \"test\"\n",
    "display_grayscale(sub[0])"
   ]
  },
  {
   "cell_type": "code",
   "execution_count": 35,
   "metadata": {
    "collapsed": false
   },
   "outputs": [
    {
     "data": {
      "text/plain": [
       "<PIL.Image.Image image mode=L size=16x16 at 0x7F5250C29128>"
      ]
     },
     "execution_count": 35,
     "metadata": {},
     "output_type": "execute_result"
    },
    {
     "data": {
      "image/png": "[encoded data removed]",
      "text/plain": [
       "<matplotlib.figure.Figure at 0x7f5252091a90>"
      ]
     },
     "metadata": {},
     "output_type": "display_data"
    }
   ],
   "source": [
    "#outside of the data set\n",
    "ind = random.randrange(size,size+200)\n",
    "display_grayscale(data[ind])"
   ]
  },
  {
   "cell_type": "code",
   "execution_count": 36,
   "metadata": {
    "collapsed": false
   },
   "outputs": [
    {
     "data": {
      "text/plain": [
       "<PIL.Image.Image image mode=L size=16x16 at 0x7F52520A2E18>"
      ]
     },
     "execution_count": 36,
     "metadata": {},
     "output_type": "execute_result"
    },
    {
     "data": {
      "image/png": "[encoded data removed]",
      "text/plain": [
       "<matplotlib.figure.Figure at 0x7f5250bb1b50>"
      ]
     },
     "metadata": {},
     "output_type": "display_data"
    }
   ],
   "source": [
    "exampleOutput = ann.sim(data[ind:ind+1])\n",
    "#exampleTest = \n",
    "display_grayscale(exampleOutput[0])\n",
    "\n",
    "#example.save('example1OUTPUT.png')"
   ]
  },
  {
   "cell_type": "code",
   "execution_count": 1,
   "metadata": {
    "collapsed": false,
    "scrolled": true
   },
   "outputs": [
    {
     "ename": "NameError",
     "evalue": "name 'ann' is not defined",
     "output_type": "error",
     "traceback": [
      "\u001b[1;31m---------------------------------------------------------------------------\u001b[0m",
      "\u001b[1;31mNameError\u001b[0m                                 Traceback (most recent call last)",
      "\u001b[1;32m<ipython-input-1-c2b06dbc9cec>\u001b[0m in \u001b[0;36m<module>\u001b[1;34m()\u001b[0m\n\u001b[1;32m----> 1\u001b[1;33m \u001b[0mann\u001b[0m\u001b[1;33m.\u001b[0m\u001b[0msave\u001b[0m\u001b[1;33m(\u001b[0m\u001b[1;34m'ann60.net'\u001b[0m\u001b[1;33m)\u001b[0m\u001b[1;33m\u001b[0m\u001b[0m\n\u001b[0m",
      "\u001b[1;31mNameError\u001b[0m: name 'ann' is not defined"
     ]
    }
   ],
   "source": [
    "ann.save('ann60.net')"
   ]
  }
 ],
 "metadata": {
  "kernelspec": {
   "display_name": "Python 2",
   "language": "python",
   "name": "python2"
  },
  "language_info": {
   "codemirror_mode": {
    "name": "ipython",
    "version": 2
   },
   "file_extension": ".py",
   "mimetype": "text/x-python",
   "name": "python",
   "nbconvert_exporter": "python",
   "pygments_lexer": "ipython2",
   "version": "2.7.6"
  }
 },
 "nbformat": 4,
 "nbformat_minor": 0
}

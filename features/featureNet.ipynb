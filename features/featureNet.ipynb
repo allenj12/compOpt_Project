{
 "cells": [
  {
   "cell_type": "code",
   "execution_count": 1,
   "metadata": {
    "collapsed": false
   },
   "outputs": [],
   "source": [
    "from IPython.core import display\n",
    "from io import BytesIO\n",
    "import Image\n",
    "import numpy as np\n",
    "import random\n",
    "import os\n",
    "\n",
    "os.chdir(\"..\")"
   ]
  },
  {
   "cell_type": "code",
   "execution_count": 13,
   "metadata": {
    "collapsed": false
   },
   "outputs": [],
   "source": [
    "def getData(path):\n",
    "    f = open(path)\n",
    "    lines = f.readlines()\n",
    "    f.close\n",
    "    \n",
    "    images = []\n",
    "    for line in lines:\n",
    "        nums = line.split()\n",
    "        images.append([((float (val))) for val in nums])\n",
    "    print images[0]"
   ]
  },
  {
   "cell_type": "code",
   "execution_count": 14,
   "metadata": {
    "collapsed": false
   },
   "outputs": [
    {
     "name": "stdout",
     "output_type": "stream",
     "text": [
      "[6.0, -1.0, -1.0, -1.0, -1.0, -1.0, -1.0, -1.0, -0.631, 0.862, -0.167, -1.0, -1.0, -1.0, -1.0, -1.0, -1.0, -1.0, -1.0, -1.0, -1.0, -1.0, -1.0, -0.992, 0.297, 1.0, 0.307, -1.0, -1.0, -1.0, -1.0, -1.0, -1.0, -1.0, -1.0, -1.0, -1.0, -1.0, -1.0, -0.41, 1.0, 0.986, -0.565, -1.0, -1.0, -1.0, -1.0, -1.0, -1.0, -1.0, -1.0, -1.0, -1.0, -1.0, -0.683, 0.825, 1.0, 0.562, -1.0, -1.0, -1.0, -1.0, -1.0, -1.0, -1.0, -1.0, -1.0, -1.0, -1.0, -0.938, 0.54, 1.0, 0.778, -0.715, -1.0, -1.0, -1.0, -1.0, -1.0, -1.0, -1.0, -1.0, -1.0, -1.0, -1.0, 0.1, 1.0, 0.922, -0.439, -1.0, -1.0, -1.0, -1.0, -1.0, -1.0, -1.0, -1.0, -1.0, -1.0, -1.0, -0.257, 0.95, 1.0, -0.162, -1.0, -1.0, -1.0, -0.987, -0.714, -0.832, -1.0, -1.0, -1.0, -1.0, -1.0, -0.797, 0.909, 1.0, 0.3, -0.961, -1.0, -1.0, -0.55, 0.485, 0.996, 0.867, 0.092, -1.0, -1.0, -1.0, -1.0, 0.278, 1.0, 0.877, -0.824, -1.0, -0.905, 0.145, 0.977, 1.0, 1.0, 1.0, 0.99, -0.745, -1.0, -1.0, -0.95, 0.847, 1.0, 0.327, -1.0, -1.0, 0.355, 1.0, 0.655, -0.109, -0.185, 1.0, 0.988, -0.723, -1.0, -1.0, -0.63, 1.0, 1.0, 0.068, -0.925, 0.113, 0.96, 0.308, -0.884, -1.0, -0.075, 1.0, 0.641, -0.995, -1.0, -1.0, -0.677, 1.0, 1.0, 0.753, 0.341, 1.0, 0.707, -0.942, -1.0, -1.0, 0.545, 1.0, 0.027, -1.0, -1.0, -1.0, -0.903, 0.792, 1.0, 1.0, 1.0, 1.0, 0.536, 0.184, 0.812, 0.837, 0.978, 0.864, -0.63, -1.0, -1.0, -1.0, -1.0, -0.452, 0.828, 1.0, 1.0, 1.0, 1.0, 1.0, 1.0, 1.0, 1.0, 0.135, -1.0, -1.0, -1.0, -1.0, -1.0, -1.0, -0.483, 0.813, 1.0, 1.0, 1.0, 1.0, 1.0, 1.0, 0.219, -0.943, -1.0, -1.0, -1.0, -1.0, -1.0, -1.0, -1.0, -0.974, -0.429, 0.304, 0.823, 1.0, 0.482, -0.474, -0.991, -1.0, -1.0, -1.0, -1.0]\n"
     ]
    }
   ],
   "source": [
    "getData(\"ZipDigits.train.txt\")"
   ]
  },
  {
   "cell_type": "code",
   "execution_count": 9,
   "metadata": {
    "collapsed": false
   },
   "outputs": [
    {
     "data": {
      "text/plain": [
       "u'/home/joe/Documents/pycode'"
      ]
     },
     "execution_count": 9,
     "metadata": {},
     "output_type": "execute_result"
    }
   ],
   "source": []
  },
  {
   "cell_type": "code",
   "execution_count": null,
   "metadata": {
    "collapsed": true
   },
   "outputs": [],
   "source": []
  }
 ],
 "metadata": {
  "kernelspec": {
   "display_name": "Python 2",
   "language": "python",
   "name": "python2"
  },
  "language_info": {
   "codemirror_mode": {
    "name": "ipython",
    "version": 2
   },
   "file_extension": ".py",
   "mimetype": "text/x-python",
   "name": "python",
   "nbconvert_exporter": "python",
   "pygments_lexer": "ipython2",
   "version": "2.7.6"
  }
 },
 "nbformat": 4,
 "nbformat_minor": 0
}
